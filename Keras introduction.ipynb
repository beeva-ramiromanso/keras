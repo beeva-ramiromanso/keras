{
 "cells": [
  {
   "cell_type": "markdown",
   "metadata": {},
   "source": [
    "# Keras introduction"
   ]
  },
  {
   "cell_type": "markdown",
   "metadata": {},
   "source": [
    "## Create dataset"
   ]
  },
  {
   "cell_type": "code",
   "execution_count": 98,
   "metadata": {
    "collapsed": true
   },
   "outputs": [],
   "source": [
    "%matplotlib inline\n",
    "import pandas as pd\n",
    "import matplotlib as pl\n",
    "import numpy as np\n",
    "from keras.utils import np_utils # For y values\n",
    "from keras.models import Sequential\n",
    "from keras.layers import Dense, Activation\n",
    "from keras.utils.visualize_util import plot\n",
    "from IPython.display import SVG\n",
    "from keras.utils.visualize_util import model_to_dot"
   ]
  },
  {
   "cell_type": "code",
   "execution_count": 99,
   "metadata": {
    "collapsed": false
   },
   "outputs": [
    {
     "data": {
      "text/html": [
       "<div>\n",
       "<table border=\"1\" class=\"dataframe\">\n",
       "  <thead>\n",
       "    <tr style=\"text-align: right;\">\n",
       "      <th></th>\n",
       "      <th>x</th>\n",
       "      <th>y</th>\n",
       "      <th>class</th>\n",
       "    </tr>\n",
       "  </thead>\n",
       "  <tbody>\n",
       "    <tr>\n",
       "      <th>0</th>\n",
       "      <td>0</td>\n",
       "      <td>0</td>\n",
       "      <td>0</td>\n",
       "    </tr>\n",
       "    <tr>\n",
       "      <th>1</th>\n",
       "      <td>1</td>\n",
       "      <td>1</td>\n",
       "      <td>0</td>\n",
       "    </tr>\n",
       "    <tr>\n",
       "      <th>2</th>\n",
       "      <td>2</td>\n",
       "      <td>2</td>\n",
       "      <td>0</td>\n",
       "    </tr>\n",
       "    <tr>\n",
       "      <th>3</th>\n",
       "      <td>3</td>\n",
       "      <td>3</td>\n",
       "      <td>0</td>\n",
       "    </tr>\n",
       "    <tr>\n",
       "      <th>4</th>\n",
       "      <td>4</td>\n",
       "      <td>4</td>\n",
       "      <td>0</td>\n",
       "    </tr>\n",
       "    <tr>\n",
       "      <th>5</th>\n",
       "      <td>5</td>\n",
       "      <td>5</td>\n",
       "      <td>1</td>\n",
       "    </tr>\n",
       "    <tr>\n",
       "      <th>6</th>\n",
       "      <td>6</td>\n",
       "      <td>6</td>\n",
       "      <td>1</td>\n",
       "    </tr>\n",
       "    <tr>\n",
       "      <th>7</th>\n",
       "      <td>7</td>\n",
       "      <td>7</td>\n",
       "      <td>1</td>\n",
       "    </tr>\n",
       "    <tr>\n",
       "      <th>8</th>\n",
       "      <td>8</td>\n",
       "      <td>8</td>\n",
       "      <td>1</td>\n",
       "    </tr>\n",
       "    <tr>\n",
       "      <th>9</th>\n",
       "      <td>9</td>\n",
       "      <td>9</td>\n",
       "      <td>1</td>\n",
       "    </tr>\n",
       "    <tr>\n",
       "      <th>10</th>\n",
       "      <td>0</td>\n",
       "      <td>0</td>\n",
       "      <td>0</td>\n",
       "    </tr>\n",
       "    <tr>\n",
       "      <th>11</th>\n",
       "      <td>1</td>\n",
       "      <td>1</td>\n",
       "      <td>0</td>\n",
       "    </tr>\n",
       "    <tr>\n",
       "      <th>12</th>\n",
       "      <td>2</td>\n",
       "      <td>2</td>\n",
       "      <td>0</td>\n",
       "    </tr>\n",
       "    <tr>\n",
       "      <th>13</th>\n",
       "      <td>3</td>\n",
       "      <td>3</td>\n",
       "      <td>0</td>\n",
       "    </tr>\n",
       "    <tr>\n",
       "      <th>14</th>\n",
       "      <td>4</td>\n",
       "      <td>4</td>\n",
       "      <td>0</td>\n",
       "    </tr>\n",
       "    <tr>\n",
       "      <th>15</th>\n",
       "      <td>5</td>\n",
       "      <td>5</td>\n",
       "      <td>1</td>\n",
       "    </tr>\n",
       "    <tr>\n",
       "      <th>16</th>\n",
       "      <td>6</td>\n",
       "      <td>6</td>\n",
       "      <td>1</td>\n",
       "    </tr>\n",
       "    <tr>\n",
       "      <th>17</th>\n",
       "      <td>7</td>\n",
       "      <td>7</td>\n",
       "      <td>1</td>\n",
       "    </tr>\n",
       "    <tr>\n",
       "      <th>18</th>\n",
       "      <td>8</td>\n",
       "      <td>8</td>\n",
       "      <td>1</td>\n",
       "    </tr>\n",
       "    <tr>\n",
       "      <th>19</th>\n",
       "      <td>9</td>\n",
       "      <td>9</td>\n",
       "      <td>1</td>\n",
       "    </tr>\n",
       "    <tr>\n",
       "      <th>20</th>\n",
       "      <td>0</td>\n",
       "      <td>0</td>\n",
       "      <td>0</td>\n",
       "    </tr>\n",
       "    <tr>\n",
       "      <th>21</th>\n",
       "      <td>1</td>\n",
       "      <td>1</td>\n",
       "      <td>0</td>\n",
       "    </tr>\n",
       "    <tr>\n",
       "      <th>22</th>\n",
       "      <td>2</td>\n",
       "      <td>2</td>\n",
       "      <td>0</td>\n",
       "    </tr>\n",
       "    <tr>\n",
       "      <th>23</th>\n",
       "      <td>3</td>\n",
       "      <td>3</td>\n",
       "      <td>0</td>\n",
       "    </tr>\n",
       "    <tr>\n",
       "      <th>24</th>\n",
       "      <td>4</td>\n",
       "      <td>4</td>\n",
       "      <td>0</td>\n",
       "    </tr>\n",
       "    <tr>\n",
       "      <th>25</th>\n",
       "      <td>5</td>\n",
       "      <td>5</td>\n",
       "      <td>1</td>\n",
       "    </tr>\n",
       "    <tr>\n",
       "      <th>26</th>\n",
       "      <td>6</td>\n",
       "      <td>6</td>\n",
       "      <td>1</td>\n",
       "    </tr>\n",
       "    <tr>\n",
       "      <th>27</th>\n",
       "      <td>7</td>\n",
       "      <td>7</td>\n",
       "      <td>1</td>\n",
       "    </tr>\n",
       "    <tr>\n",
       "      <th>28</th>\n",
       "      <td>8</td>\n",
       "      <td>8</td>\n",
       "      <td>1</td>\n",
       "    </tr>\n",
       "    <tr>\n",
       "      <th>29</th>\n",
       "      <td>9</td>\n",
       "      <td>9</td>\n",
       "      <td>1</td>\n",
       "    </tr>\n",
       "    <tr>\n",
       "      <th>30</th>\n",
       "      <td>0</td>\n",
       "      <td>0</td>\n",
       "      <td>0</td>\n",
       "    </tr>\n",
       "    <tr>\n",
       "      <th>31</th>\n",
       "      <td>1</td>\n",
       "      <td>1</td>\n",
       "      <td>0</td>\n",
       "    </tr>\n",
       "    <tr>\n",
       "      <th>32</th>\n",
       "      <td>2</td>\n",
       "      <td>2</td>\n",
       "      <td>0</td>\n",
       "    </tr>\n",
       "    <tr>\n",
       "      <th>33</th>\n",
       "      <td>3</td>\n",
       "      <td>3</td>\n",
       "      <td>0</td>\n",
       "    </tr>\n",
       "    <tr>\n",
       "      <th>34</th>\n",
       "      <td>4</td>\n",
       "      <td>4</td>\n",
       "      <td>0</td>\n",
       "    </tr>\n",
       "    <tr>\n",
       "      <th>35</th>\n",
       "      <td>5</td>\n",
       "      <td>5</td>\n",
       "      <td>1</td>\n",
       "    </tr>\n",
       "    <tr>\n",
       "      <th>36</th>\n",
       "      <td>6</td>\n",
       "      <td>6</td>\n",
       "      <td>1</td>\n",
       "    </tr>\n",
       "    <tr>\n",
       "      <th>37</th>\n",
       "      <td>7</td>\n",
       "      <td>7</td>\n",
       "      <td>1</td>\n",
       "    </tr>\n",
       "    <tr>\n",
       "      <th>38</th>\n",
       "      <td>8</td>\n",
       "      <td>8</td>\n",
       "      <td>1</td>\n",
       "    </tr>\n",
       "    <tr>\n",
       "      <th>39</th>\n",
       "      <td>9</td>\n",
       "      <td>9</td>\n",
       "      <td>1</td>\n",
       "    </tr>\n",
       "  </tbody>\n",
       "</table>\n",
       "</div>"
      ],
      "text/plain": [
       "    x  y  class\n",
       "0   0  0      0\n",
       "1   1  1      0\n",
       "2   2  2      0\n",
       "3   3  3      0\n",
       "4   4  4      0\n",
       "5   5  5      1\n",
       "6   6  6      1\n",
       "7   7  7      1\n",
       "8   8  8      1\n",
       "9   9  9      1\n",
       "10  0  0      0\n",
       "11  1  1      0\n",
       "12  2  2      0\n",
       "13  3  3      0\n",
       "14  4  4      0\n",
       "15  5  5      1\n",
       "16  6  6      1\n",
       "17  7  7      1\n",
       "18  8  8      1\n",
       "19  9  9      1\n",
       "20  0  0      0\n",
       "21  1  1      0\n",
       "22  2  2      0\n",
       "23  3  3      0\n",
       "24  4  4      0\n",
       "25  5  5      1\n",
       "26  6  6      1\n",
       "27  7  7      1\n",
       "28  8  8      1\n",
       "29  9  9      1\n",
       "30  0  0      0\n",
       "31  1  1      0\n",
       "32  2  2      0\n",
       "33  3  3      0\n",
       "34  4  4      0\n",
       "35  5  5      1\n",
       "36  6  6      1\n",
       "37  7  7      1\n",
       "38  8  8      1\n",
       "39  9  9      1"
      ]
     },
     "execution_count": 99,
     "metadata": {},
     "output_type": "execute_result"
    }
   ],
   "source": [
    "# Set data\n",
    "data = np.array([\n",
    "    [0, 0, 0],\n",
    "    [1, 1, 0],\n",
    "    [2, 2, 0],\n",
    "    [3, 3, 0],\n",
    "    [4, 4, 0],\n",
    "    [5, 5, 1],\n",
    "    [6, 6, 1],\n",
    "    [7, 7, 1],\n",
    "    [8, 8, 1],\n",
    "    [9, 9, 1],\n",
    "])\n",
    "data = np.vstack((data, data, data, data)) # Just for sufficient input\n",
    "data = pd.DataFrame(data, columns=['x', 'y', 'class'])\n",
    "\n",
    "# Split X and y\n",
    "X = data.iloc[:, :-1].values\n",
    "y = data.iloc[:, -1:].values\n",
    "data"
   ]
  },
  {
   "cell_type": "code",
   "execution_count": 100,
   "metadata": {
    "collapsed": false
   },
   "outputs": [
    {
     "name": "stdout",
     "output_type": "stream",
     "text": [
      "('dimof_input: ', 2)\n",
      "('dimof_output: ', 2)\n"
     ]
    }
   ],
   "source": [
    "# Get dimensions of input and output\n",
    "dimof_input = X.shape[1]\n",
    "dimof_output = np.max(y) + 1\n",
    "print('dimof_input: ', dimof_input)\n",
    "print('dimof_output: ', dimof_output)\n",
    "\n",
    "# Set y categorical\n",
    "y = np_utils.to_categorical(y, dimof_output)"
   ]
  },
  {
   "cell_type": "markdown",
   "metadata": {},
   "source": [
    "# Keras:"
   ]
  },
  {
   "cell_type": "markdown",
   "metadata": {},
   "source": [
    "### Model input and layers\n",
    "\n",
    "The simplest model defined is the Sequential class which is a linear stack of layers. You can use either of these idioms:\n",
    "\n",
    "```python\n",
    "model = Sequential(...)\n",
    "```\n",
    "\n",
    "```python\n",
    "model = Sequential()\n",
    "model.add(...)\n",
    "model.add(...)\n",
    "model.add(...)\n",
    "``` \n",
    "   \n",
    "In the first layer you must specify the shape of the input, this is the number of features your dataset has. For example, I may want a layer with 5 neurons conected to the input which has 8 features:\n",
    "\n",
    "    Dense(5, input_dim=8)\n",
    "    \n",
    "#### Layers\n",
    "\n",
    "Layers of different type are a few properties in common, specifically their method of weight initialization and activation functions.\n",
    "\n",
    "##### Weight initialization:\n",
    "\n",
    "Some common types of layer initialization include:\n",
    "\n",
    "* Uniform: Weights are initialized to small uniformly random values between 0 and 0.05\n",
    "* Normal: Weights are initialized to small Gaussian random values (zero mean and std 0.05)\n",
    "* Zero: Weights are set to 0\n",
    "\n",
    "##### Activation function:\n",
    "\n",
    "Keras supports a range of standard neuron activation function, such as: softmax, rectifier, tanh and sigmoid.\n",
    "\n",
    "##### Layer types:\n",
    "\n",
    "\n",
    "Some common and useful layer types you can choose from are:\n",
    "\n",
    "* Dense: Fully connected layer and the most common type of layer used on multi-layer perceptron models.\n",
    "* Dropout: Apply dropout to the model, setting a fraction of inputs to zero in an effort to reduce over fitting.\n",
    "* Merge: Combine the inputs from multiple models into a single model.\n"
   ]
  },
  {
   "cell_type": "code",
   "execution_count": 114,
   "metadata": {
    "collapsed": false
   },
   "outputs": [],
   "source": [
    "model = Sequential()\n",
    "model.add(Dense(5, input_dim=dimof_input, init='uniform', activation='tanh'))\n",
    "model.add(Dense(dimof_output, init='uniform', activation='softmax'))\n"
   ]
  },
  {
   "cell_type": "markdown",
   "metadata": {},
   "source": [
    "### Model compilation\n",
    "\n",
    "Compiling a model creates an efficient structure used by the backend (Theano or Tensorflow).\n",
    "\n",
    "You compile your model with the *compile()* function and accepts three important attributes:\n",
    "\n",
    "1. Model optimizer\n",
    "2. Loss function\n",
    "3. Metrics\n",
    "\n",
    "```python\n",
    "model.compile(optimizer=, loss=, metrics=)\n",
    "```\n",
    " \n",
    "\n"
   ]
  },
  {
   "cell_type": "markdown",
   "metadata": {},
   "source": [
    "#### Model Optimizer\n",
    "\n",
    "The optimizer is the search technique used to update weights in your model.\n",
    "You can create an optimizer object and pass it to the compile funciton via the optimizer argument. This allows you to configure the optimization procedure with it's own arguments such as learning rate.\n",
    "\n",
    "```python\n",
    "sgd = SGD(...)\n",
    "model.compile(optimizer=sgd)\n",
    "```\n",
    "You can also use the default parameters of the optimizer by specifying the name of the optimizer to the optimizer argument. For example:\n",
    "\n",
    "```python\n",
    "model.compile(optimizer='sgd')\n",
    "```\n",
    "\n",
    "Some popular gradient descent optimizers you might like to choose from include:\n",
    "\n",
    "* SGD: stochastic gradient descent, with support for momentum.\n",
    "* RMSprop: adaptive learning rate optimization method proposed by Geoff Hinton.\n",
    "* Adam: Adaptive Moment Estimation (Adam) that also uses adaptive learning rates.\n",
    "\n",
    "#### Model loss functions\n",
    "\n",
    "The loss function is the evaluation of the model used by the optimizer to navigate the weight space. You can specify the name of the loss function to use in the compile function by the loss argument. Some common examples:\n",
    "\n",
    "* MSE: Mean squared error.\n",
    "* Bynary Crossentropy: Binary logarithmic loss (logloss).\n",
    "* Categorical Crossentropy: Multiclass logloss.\n",
    "\n",
    "#### Model Metrics\n",
    "\n",
    "Metrics are evaluated during training. Only accuracy is supported for now."
   ]
  },
  {
   "cell_type": "code",
   "execution_count": 103,
   "metadata": {
    "collapsed": false
   },
   "outputs": [
    {
     "data": {
      "image/svg+xml": [
       "<svg height=\"191pt\" viewBox=\"0.00 0.00 183.00 191.00\" width=\"183pt\" xmlns=\"http://www.w3.org/2000/svg\" xmlns:xlink=\"http://www.w3.org/1999/xlink\">\n",
       "<g class=\"graph\" id=\"graph0\" transform=\"scale(1 1) rotate(0) translate(4 187)\">\n",
       "<title>G</title>\n",
       "<polygon fill=\"white\" points=\"-4,4 -4,-187 179,-187 179,4 -4,4\" stroke=\"none\"/>\n",
       "<!-- 140222885111760 -->\n",
       "<g class=\"node\" id=\"node1\"><title>140222885111760</title>\n",
       "<polygon fill=\"none\" points=\"0,-146.5 0,-182.5 175,-182.5 175,-146.5 0,-146.5\" stroke=\"black\"/>\n",
       "<text font-family=\"Times,serif\" font-size=\"14.00\" text-anchor=\"middle\" x=\"87.5\" y=\"-160.8\">dense_input_17 (InputLayer)</text>\n",
       "</g>\n",
       "<!-- 140222885111568 -->\n",
       "<g class=\"node\" id=\"node2\"><title>140222885111568</title>\n",
       "<polygon fill=\"none\" points=\"30.5,-73.5 30.5,-109.5 144.5,-109.5 144.5,-73.5 30.5,-73.5\" stroke=\"black\"/>\n",
       "<text font-family=\"Times,serif\" font-size=\"14.00\" text-anchor=\"middle\" x=\"87.5\" y=\"-87.8\">dense_30 (Dense)</text>\n",
       "</g>\n",
       "<!-- 140222885111760&#45;&gt;140222885111568 -->\n",
       "<g class=\"edge\" id=\"edge1\"><title>140222885111760-&gt;140222885111568</title>\n",
       "<path d=\"M87.5,-146.313C87.5,-138.289 87.5,-128.547 87.5,-119.569\" fill=\"none\" stroke=\"black\"/>\n",
       "<polygon fill=\"black\" points=\"91.0001,-119.529 87.5,-109.529 84.0001,-119.529 91.0001,-119.529\" stroke=\"black\"/>\n",
       "</g>\n",
       "<!-- 140222885111632 -->\n",
       "<g class=\"node\" id=\"node3\"><title>140222885111632</title>\n",
       "<polygon fill=\"none\" points=\"30.5,-0.5 30.5,-36.5 144.5,-36.5 144.5,-0.5 30.5,-0.5\" stroke=\"black\"/>\n",
       "<text font-family=\"Times,serif\" font-size=\"14.00\" text-anchor=\"middle\" x=\"87.5\" y=\"-14.8\">dense_31 (Dense)</text>\n",
       "</g>\n",
       "<!-- 140222885111568&#45;&gt;140222885111632 -->\n",
       "<g class=\"edge\" id=\"edge2\"><title>140222885111568-&gt;140222885111632</title>\n",
       "<path d=\"M87.5,-73.3129C87.5,-65.2895 87.5,-55.5475 87.5,-46.5691\" fill=\"none\" stroke=\"black\"/>\n",
       "<polygon fill=\"black\" points=\"91.0001,-46.5288 87.5,-36.5288 84.0001,-46.5289 91.0001,-46.5288\" stroke=\"black\"/>\n",
       "</g>\n",
       "</g>\n",
       "</svg>"
      ],
      "text/plain": [
       "<IPython.core.display.SVG object>"
      ]
     },
     "execution_count": 103,
     "metadata": {},
     "output_type": "execute_result"
    }
   ],
   "source": [
    "model.compile(loss='mse', optimizer='sgd', metrics=['accuracy'])\n",
    "model.get_weights()\n",
    "\n",
    "SVG(model_to_dot(model).create(prog='dot', format='svg'))"
   ]
  },
  {
   "cell_type": "markdown",
   "metadata": {},
   "source": [
    "## Model Training\n",
    "\n",
    "The model is trained on NumPy arrays using the *fit()* function, for example:\n",
    "\n",
    "```python\n",
    "model.fit(X, y, nb_epoch=, batch_size=)\n",
    "```\n",
    "\n",
    "Training both specifies the number of epochs to train on and the batch size\n",
    "\n",
    "* Epochs (nb_epoch) is the number of times that the model is exposed to the training dataset.\n",
    "* Batch Size (batch_size) is the number of training instances shown to the model before a weight update is performed.\n",
    "\n",
    "The fit function also allows for some basic evaluation on the model during trainig. You can set the *validation_split* value to hold back a fraction of the training dataset for validation to be valuated each epoch, or provide a *validation_data* tuple of *(X,y)* of data to evaluate.\n",
    "\n",
    "Fitting the model returns a history object with details and metrics calculated for the model each epoch. This can be used for graphing the model performance"
   ]
  },
  {
   "cell_type": "code",
   "execution_count": 105,
   "metadata": {
    "collapsed": false
   },
   "outputs": [
    {
     "name": "stdout",
     "output_type": "stream",
     "text": [
      "Epoch 1/5\n",
      "40/40 [==============================] - 0s - loss: 0.2460 - acc: 0.5250     \n",
      "Epoch 2/5\n",
      "40/40 [==============================] - 0s - loss: 0.2458 - acc: 0.6000     \n",
      "Epoch 3/5\n",
      "40/40 [==============================] - 0s - loss: 0.2456 - acc: 0.6000     \n",
      "Epoch 4/5\n",
      "40/40 [==============================] - 0s - loss: 0.2453 - acc: 0.6000     \n",
      "Epoch 5/5\n",
      "40/40 [==============================] - 0s - loss: 0.2450 - acc: 0.6000     \n"
     ]
    },
    {
     "data": {
      "text/plain": [
       "<keras.callbacks.History at 0x7f882f432e50>"
      ]
     },
     "execution_count": 105,
     "metadata": {},
     "output_type": "execute_result"
    }
   ],
   "source": [
    "model.fit(X, y, nb_epoch=5, batch_size=32)"
   ]
  },
  {
   "cell_type": "code",
   "execution_count": 108,
   "metadata": {
    "collapsed": false,
    "scrolled": true
   },
   "outputs": [
    {
     "name": "stdout",
     "output_type": "stream",
     "text": [
      "[array([[-0.0399802 , -0.00922908,  0.01051037, -0.01439286, -0.01794193],\n",
      "       [-0.042022  , -0.02982447, -0.0019958 , -0.04308484, -0.02701791]], dtype=float32), array([  1.17546806e-04,   4.42261080e-06,   1.08574932e-06,\n",
      "         1.19309887e-04,  -7.45117813e-06], dtype=float32), array([[ 0.00340868, -0.04513652],\n",
      "       [-0.01097078, -0.02297473],\n",
      "       [ 0.031425  ,  0.01153775],\n",
      "       [ 0.05005129, -0.04398922],\n",
      "       [ 0.02239522,  0.02350911]], dtype=float32), array([ -3.93962837e-05,   3.93962837e-05], dtype=float32)]\n"
     ]
    },
    {
     "data": {
      "image/svg+xml": [
       "<svg height=\"191pt\" viewBox=\"0.00 0.00 183.00 191.00\" width=\"183pt\" xmlns=\"http://www.w3.org/2000/svg\" xmlns:xlink=\"http://www.w3.org/1999/xlink\">\n",
       "<g class=\"graph\" id=\"graph0\" transform=\"scale(1 1) rotate(0) translate(4 187)\">\n",
       "<title>G</title>\n",
       "<polygon fill=\"white\" points=\"-4,4 -4,-187 179,-187 179,4 -4,4\" stroke=\"none\"/>\n",
       "<!-- 140222885111760 -->\n",
       "<g class=\"node\" id=\"node1\"><title>140222885111760</title>\n",
       "<polygon fill=\"none\" points=\"0,-146.5 0,-182.5 175,-182.5 175,-146.5 0,-146.5\" stroke=\"black\"/>\n",
       "<text font-family=\"Times,serif\" font-size=\"14.00\" text-anchor=\"middle\" x=\"87.5\" y=\"-160.8\">dense_input_17 (InputLayer)</text>\n",
       "</g>\n",
       "<!-- 140222885111568 -->\n",
       "<g class=\"node\" id=\"node2\"><title>140222885111568</title>\n",
       "<polygon fill=\"none\" points=\"30.5,-73.5 30.5,-109.5 144.5,-109.5 144.5,-73.5 30.5,-73.5\" stroke=\"black\"/>\n",
       "<text font-family=\"Times,serif\" font-size=\"14.00\" text-anchor=\"middle\" x=\"87.5\" y=\"-87.8\">dense_30 (Dense)</text>\n",
       "</g>\n",
       "<!-- 140222885111760&#45;&gt;140222885111568 -->\n",
       "<g class=\"edge\" id=\"edge1\"><title>140222885111760-&gt;140222885111568</title>\n",
       "<path d=\"M87.5,-146.313C87.5,-138.289 87.5,-128.547 87.5,-119.569\" fill=\"none\" stroke=\"black\"/>\n",
       "<polygon fill=\"black\" points=\"91.0001,-119.529 87.5,-109.529 84.0001,-119.529 91.0001,-119.529\" stroke=\"black\"/>\n",
       "</g>\n",
       "<!-- 140222885111632 -->\n",
       "<g class=\"node\" id=\"node3\"><title>140222885111632</title>\n",
       "<polygon fill=\"none\" points=\"30.5,-0.5 30.5,-36.5 144.5,-36.5 144.5,-0.5 30.5,-0.5\" stroke=\"black\"/>\n",
       "<text font-family=\"Times,serif\" font-size=\"14.00\" text-anchor=\"middle\" x=\"87.5\" y=\"-14.8\">dense_31 (Dense)</text>\n",
       "</g>\n",
       "<!-- 140222885111568&#45;&gt;140222885111632 -->\n",
       "<g class=\"edge\" id=\"edge2\"><title>140222885111568-&gt;140222885111632</title>\n",
       "<path d=\"M87.5,-73.3129C87.5,-65.2895 87.5,-55.5475 87.5,-46.5691\" fill=\"none\" stroke=\"black\"/>\n",
       "<polygon fill=\"black\" points=\"91.0001,-46.5288 87.5,-36.5288 84.0001,-46.5289 91.0001,-46.5288\" stroke=\"black\"/>\n",
       "</g>\n",
       "</g>\n",
       "</svg>"
      ],
      "text/plain": [
       "<IPython.core.display.SVG object>"
      ]
     },
     "execution_count": 108,
     "metadata": {},
     "output_type": "execute_result"
    }
   ],
   "source": [
    "print(model.get_weights())\n",
    "SVG(model_to_dot(model).create(prog='dot', format='svg'))"
   ]
  },
  {
   "cell_type": "code",
   "execution_count": 112,
   "metadata": {
    "collapsed": false
   },
   "outputs": [
    {
     "name": "stdout",
     "output_type": "stream",
     "text": [
      "32/40 [=======================>......] - ETA: 0s(0.24472840428352355, 0.5)\n"
     ]
    }
   ],
   "source": [
    "# Evaluate\n",
    "loss, accuracy = model.evaluate(X, y)\n",
    "print(loss,accuracy)"
   ]
  },
  {
   "cell_type": "code",
   "execution_count": 113,
   "metadata": {
    "collapsed": false
   },
   "outputs": [
    {
     "name": "stdout",
     "output_type": "stream",
     "text": [
      "1/1 [==============================] - 0s\n",
      "('prediction of [1, 1]: ', array([1]))\n",
      "1/1 [==============================] - 0s\n",
      "('prediction of [8, 8]: ', array([1]))\n"
     ]
    }
   ],
   "source": [
    "# Predict\n",
    "# model.predict_classes(X, verbose=verbose)\n",
    "print('prediction of [1, 1]: ', model.predict_classes(np.array([[1, 1]]), verbose=1))\n",
    "print('prediction of [8, 8]: ', model.predict_classes(np.array([[8, 8]]), verbose=1))"
   ]
  },
  {
   "cell_type": "code",
   "execution_count": null,
   "metadata": {
    "collapsed": true
   },
   "outputs": [],
   "source": []
  }
 ],
 "metadata": {
  "kernelspec": {
   "display_name": "Python 2",
   "language": "python",
   "name": "python2"
  },
  "language_info": {
   "codemirror_mode": {
    "name": "ipython",
    "version": 2
   },
   "file_extension": ".py",
   "mimetype": "text/x-python",
   "name": "python",
   "nbconvert_exporter": "python",
   "pygments_lexer": "ipython2",
   "version": "2.7.12"
  }
 },
 "nbformat": 4,
 "nbformat_minor": 0
}
